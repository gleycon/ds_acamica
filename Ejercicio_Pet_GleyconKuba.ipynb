{
 "cells": [
  {
   "cell_type": "markdown",
   "metadata": {},
   "source": [
    "## Clase 11 Aprendizaje Supervisado  - Evaluación de modelos\n",
    "\n",
    "https://www.kaggle.com/c/petfinder-adoption-prediction/data"
   ]
  },
  {
   "cell_type": "markdown",
   "metadata": {},
   "source": [
    "\n",
    "**AdoptionSpeed** - Categorical speed of adoption. Lower is faster. This is the value to predict. See below section for more info.\n",
    "\n",
    "Type - Type of animal (1 = Dog, 2 = Cat)\n",
    "\n",
    "Age - Age of pet when listed, in months\n",
    "\n",
    "Breed1 - Primary breed of pet (Refer to BreedLabels dictionary)\n",
    "\n",
    "Breed2 - Secondary breed of pet, if pet is of mixed breed (Refer to BreedLabels dictionary)\n",
    "\n",
    "Gender - Gender of pet (1 = Male, 2 = Female, 3 = Mixed, if profile represents group of pets)\n",
    "\n",
    "Health - Health Condition (1 = Healthy, 2 = Minor Injury, 3 = Serious Injury, 0 = Not Specified)\n",
    "\n",
    "Fee - Adoption fee (0 = Free)"
   ]
  },
  {
   "cell_type": "code",
   "execution_count": 1,
   "metadata": {},
   "outputs": [],
   "source": [
    "import numpy as np\n",
    "import pandas as pd\n",
    "import seaborn as sns\n",
    "\n",
    "from sklearn.linear_model import LinearRegression\n",
    "from sklearn.linear_model import SGDClassifier\n",
    "from sklearn.metrics import accuracy_score, classification_report, confusion_matrix\n",
    "from sklearn.model_selection import  train_test_split"
   ]
  },
  {
   "cell_type": "markdown",
   "metadata": {},
   "source": [
    "### Ejercicio 1"
   ]
  },
  {
   "cell_type": "code",
   "execution_count": 2,
   "metadata": {},
   "outputs": [],
   "source": [
    "# 1) Cargar el dataset \"train\"\n",
    "data = pd.read_csv('train.csv')"
   ]
  },
  {
   "cell_type": "code",
   "execution_count": 3,
   "metadata": {},
   "outputs": [],
   "source": [
    "# 2) Trabajar solo con las features \"'Type','Age','Breed1','Breed2','Gender','Health','Fee', 'AdoptionSpeed'\"\n",
    "df_train = data.filter(items=['Type','Age','Breed1','Breed2','Gender','Health','Fee', 'AdoptionSpeed'])"
   ]
  },
  {
   "cell_type": "code",
   "execution_count": 4,
   "metadata": {},
   "outputs": [],
   "source": [
    "# 3) Formatear **Age**, **Fee** y **AdoptionSpeed**  como numéricas y el resto como categóricas (pd.Categorical)\n",
    "#df_train['Type'] = pd.Categorical(df_train['Type'])\n",
    "#df_train['Breed1'] = pd.Categorical(df_train['Breed1'])\n",
    "#df_train['Breed2'] = pd.Categorical(df_train['Breed2'])\n",
    "#df_train['Gender'] = pd.Categorical(df_train['Gender'])\n",
    "#df_train['Health'] = pd.Categorical(df_train['Health'])"
   ]
  },
  {
   "cell_type": "markdown",
   "metadata": {},
   "source": [
    "### Ejercicio 2\n",
    "1) Crear una feature nueva para cuando un animal tenga dos **Breeds**. (np.where) \n",
    "\n",
    "2) Utilizar one hot encoding para las variables **Gender** y **Health** (pd.get_dummies) y eliminar las variables originales.\n",
    "\n",
    "3) Elegir un citerio para cuantizar las variables **Age** y **Fee**.\n",
    "\n",
    "4) Separar la columna **AdoptionSpeed** en otro dataframe. (X , y = df.iloc[ : , : ], df.AdoptionSpeed)\n",
    "\n",
    "5) Utilizar ambos dataset para ajustar una regresión lineal y comparar resultados. A mayor score, mejor el ajuste."
   ]
  },
  {
   "cell_type": "code",
   "execution_count": 5,
   "metadata": {},
   "outputs": [],
   "source": [
    "# 1) Crear una feature nueva para cuando un animal tenga dos **Breeds**. (np.where) \n",
    "df_train['breed_new'] = np.where(df_train['Breed2']>0,1,0)\n",
    "# I also eliminate old columns\n",
    "del df_train['Breed1']\n",
    "del df_train['Breed2']"
   ]
  },
  {
   "cell_type": "code",
   "execution_count": 6,
   "metadata": {},
   "outputs": [],
   "source": [
    "# 2) Utilizar one hot encoding para las variables Gender y Health (pd.get_dummies) y eliminar las variables originales.\n",
    "df_train = pd.get_dummies(df_train,columns=['Gender','Health'])"
   ]
  },
  {
   "cell_type": "code",
   "execution_count": 7,
   "metadata": {},
   "outputs": [
    {
     "data": {
      "text/plain": [
       "<matplotlib.axes._subplots.AxesSubplot at 0x7f173e1a54a8>"
      ]
     },
     "execution_count": 7,
     "metadata": {},
     "output_type": "execute_result"
    },
    {
     "data": {
      "image/png": "[encoded data removed]",
      "text/plain": [
       "<Figure size 432x288 with 1 Axes>"
      ]
     },
     "metadata": {
      "needs_background": "light"
     },
     "output_type": "display_data"
    }
   ],
   "source": [
    "# 3) Elegir un citerio para cuantizar las variables **Age** y **Fee**.\n",
    "sns.boxplot(df_train['Age']) # ver el gráfico para entender el comportamiento de Age"
   ]
  },
  {
   "cell_type": "code",
   "execution_count": 8,
   "metadata": {},
   "outputs": [
    {
     "data": {
      "text/plain": [
       "count    10582.000000\n",
       "mean        10.520412\n",
       "std         18.374027\n",
       "min          0.000000\n",
       "25%          2.000000\n",
       "50%          3.000000\n",
       "75%         12.000000\n",
       "max        255.000000\n",
       "Name: Age, dtype: float64"
      ]
     },
     "execution_count": 8,
     "metadata": {},
     "output_type": "execute_result"
    }
   ],
   "source": [
    "df_train['Age'].describe() # Ver los valores"
   ]
  },
  {
   "cell_type": "code",
   "execution_count": 9,
   "metadata": {},
   "outputs": [],
   "source": [
    "p25 = np.percentile(df_train.Age, 25)\n",
    "p75 = np.percentile(df_train.Age, 75)\n",
    "iqr = p75 - p25 # este es el rango intercuartilico\n",
    "mini = p25 - (iqr*1.5) # definir el minimo utilizando una metodologia de multiplicar por 1.5\n",
    "maxi = p75 + (iqr*1.5) # definir el maximo\n",
    "df_train = df_train[(df_train.Age >= mini) & (df_train.Age <= maxi)]"
   ]
  },
  {
   "cell_type": "code",
   "execution_count": 10,
   "metadata": {},
   "outputs": [],
   "source": [
    "q_cuts = pd.qcut(df_train['Age'], 4, labels=False) # Dividir en 4 bins\n",
    "df_train['Age'] = q_cuts # update dataset"
   ]
  },
  {
   "cell_type": "code",
   "execution_count": 11,
   "metadata": {},
   "outputs": [
    {
     "data": {
      "text/plain": [
       "<matplotlib.axes._subplots.AxesSubplot at 0x7f173dea4a20>"
      ]
     },
     "execution_count": 11,
     "metadata": {},
     "output_type": "execute_result"
    },
    {
     "data": {
      "image/png": "[encoded data removed]",
      "text/plain": [
       "<Figure size 432x288 with 1 Axes>"
      ]
     },
     "metadata": {
      "needs_background": "light"
     },
     "output_type": "display_data"
    }
   ],
   "source": [
    "sns.boxplot(df_train['Fee']) # ver el gráfico para entender el comportamiento de Fee"
   ]
  },
  {
   "cell_type": "code",
   "execution_count": 12,
   "metadata": {},
   "outputs": [
    {
     "data": {
      "text/plain": [
       "count    9524.000000\n",
       "mean       18.564049\n",
       "std        75.627542\n",
       "min         0.000000\n",
       "25%         0.000000\n",
       "50%         0.000000\n",
       "75%         0.000000\n",
       "max      3000.000000\n",
       "Name: Fee, dtype: float64"
      ]
     },
     "execution_count": 12,
     "metadata": {},
     "output_type": "execute_result"
    }
   ],
   "source": [
    "df_train['Fee'].describe() # Ver los valores"
   ]
  },
  {
   "cell_type": "code",
   "execution_count": 13,
   "metadata": {},
   "outputs": [],
   "source": [
    "# df_train['Fee'] = np.where(df_train['Fee'] == 0, 0,1) # Si hay costo = 0 si no = 1\n",
    "fees = df_train['Fee']\n",
    "fees_scaled = (fees - fees.min(axis=0)) / (fees.max(axis=0) - fees.min(axis=0))\n",
    "df_train['Fee'] = fees_scaled"
   ]
  },
  {
   "cell_type": "code",
   "execution_count": 14,
   "metadata": {},
   "outputs": [],
   "source": [
    "# 4.Separar la columna AdoptionSpeed en otro dataframe. (X , y = df.iloc[ : , : ], df.AdoptionSpeed)\n",
    "X, y = df_train.drop(['AdoptionSpeed'], axis=1), df_train.AdoptionSpeed "
   ]
  },
  {
   "cell_type": "markdown",
   "metadata": {},
   "source": [
    "https://scikit-learn.org/stable/modules/generated/sklearn.linear_model.LinearRegression.html"
   ]
  },
  {
   "cell_type": "code",
   "execution_count": 15,
   "metadata": {},
   "outputs": [
    {
     "data": {
      "text/plain": [
       "0.0834163213455299"
      ]
     },
     "execution_count": 15,
     "metadata": {},
     "output_type": "execute_result"
    }
   ],
   "source": [
    "#Baseline: 0.038\n",
    "modelo_lr = LinearRegression().fit(X, y)\n",
    "modelo_lr.score(X,y)"
   ]
  },
  {
   "cell_type": "markdown",
   "metadata": {},
   "source": [
    "### Ejercicio 3 : Evaluación de Modelos - Clase 11\n",
    "Del ejercicio trabajado la clase pasada obtuvimos un conjunto de datos `X`  y un conjunto de datos `y` (target variable).\n",
    "\n",
    "1) Separar los datos  en train y test según su criterio utilizando scikit-learn. Consultar documentación:\n",
    "\n",
    "https://scikit-learn.org/stable/modules/generated/sklearn.model_selection.train_test_split.html"
   ]
  },
  {
   "cell_type": "code",
   "execution_count": 59,
   "metadata": {},
   "outputs": [],
   "source": [
    "# división entre entrenamiento y evaluación\n",
    "X, y = df_train.drop('AdoptionSpeed', axis=1), df_train.AdoptionSpeed\n",
    "X_train, X_test, y_train, y_test = train_test_split(X, y, test_size=0.24, random_state=3)"
   ]
  },
  {
   "cell_type": "markdown",
   "metadata": {},
   "source": [
    "2) Realizar el entrenamiento sobre el conjunto de `Train` utilizando modelo lineal SGD y variar los parámetros de `Loss` y `Penalty` hasta obtener el mejor resultado. Validar el resultado con la métrica **Score** que provee el modelo.\n",
    "\n",
    "https://scikit-learn.org/stable/modules/generated/sklearn.linear_model.SGDClassifier.html\n",
    "\n",
    "https://scikit-learn.org/stable/modules/generated/sklearn.linear_model.SGDClassifier.html#sklearn.linear_model.SGDClassifier.fit"
   ]
  },
  {
   "cell_type": "code",
   "execution_count": 60,
   "metadata": {},
   "outputs": [
    {
     "data": {
      "text/plain": [
       "SGDClassifier(alpha=0.0001, average=False, class_weight=None,\n",
       "              early_stopping=False, epsilon=0.1, eta0=0.0, fit_intercept=True,\n",
       "              l1_ratio=0.15, learning_rate='optimal', loss='hinge',\n",
       "              max_iter=1000, n_iter_no_change=5, n_jobs=None, penalty='none',\n",
       "              power_t=0.5, random_state=242, shuffle=True, tol=0.001,\n",
       "              validation_fraction=0.1, verbose=0, warm_start=False)"
      ]
     },
     "execution_count": 60,
     "metadata": {},
     "output_type": "execute_result"
    }
   ],
   "source": [
    "model_sgd = SGDClassifier(loss='hinge', penalty='none' , random_state=242) #probar combinación de parámetros\n",
    "model_sgd.fit(X_train, y_train)"
   ]
  },
  {
   "cell_type": "markdown",
   "metadata": {},
   "source": [
    "3) Computar el **Score** (mean accuracy) obtenido sobre el entrenamiento anterior:\n",
    " \n",
    " El **baseline score** sobre `train` está alrededor de 22% (0.22)\n",
    "\n",
    "https://scikit-learn.org/stable/modules/generated/sklearn.linear_model.SGDClassifier.html#sklearn.linear_model.SGDClassifier.score"
   ]
  },
  {
   "cell_type": "code",
   "execution_count": 61,
   "metadata": {},
   "outputs": [
    {
     "data": {
      "text/plain": [
       "0.3430505664548218"
      ]
     },
     "execution_count": 61,
     "metadata": {},
     "output_type": "execute_result"
    }
   ],
   "source": [
    "model_sgd.score(X_train, y_train)"
   ]
  },
  {
   "cell_type": "markdown",
   "metadata": {},
   "source": [
    "4) Realizar la predicción sobre el el set de `test` y analizar el % de accuracy.\n",
    "\n",
    "El **baseline score** sobre `test` está alrededor de 24% (0.24)"
   ]
  },
  {
   "cell_type": "code",
   "execution_count": 62,
   "metadata": {},
   "outputs": [
    {
     "name": "stdout",
     "output_type": "stream",
     "text": [
      "35.039370078740156 %\n"
     ]
    }
   ],
   "source": [
    "y_true, y_pred = y_test, model_sgd.predict(X_test)\n",
    "print(accuracy_score(y_true, y_pred) * 100,\"%\")"
   ]
  },
  {
   "cell_type": "markdown",
   "metadata": {},
   "source": [
    "5) Analizar la matriz de confusión y analizar resultados.¿Qué harías para mejorar el accuracy de las clases mal predichas?"
   ]
  },
  {
   "cell_type": "code",
   "execution_count": 63,
   "metadata": {},
   "outputs": [
    {
     "data": {
      "text/plain": [
       "array([[  0,   0,  28,   0,  34],\n",
       "       [  2,   0, 282,   0, 169],\n",
       "       [  3,   0, 331,   0, 296],\n",
       "       [  4,   0, 220,   0, 288],\n",
       "       [  0,   0, 159,   0, 470]])"
      ]
     },
     "execution_count": 63,
     "metadata": {},
     "output_type": "execute_result"
    }
   ],
   "source": [
    "confusion_matrix(y_true, y_pred)"
   ]
  },
  {
   "cell_type": "markdown",
   "metadata": {},
   "source": [
    "Ejecuar este código para poder generar la matriz en forma gráfica!!!"
   ]
  },
  {
   "cell_type": "code",
   "execution_count": 64,
   "metadata": {},
   "outputs": [],
   "source": [
    "#conda install -c anaconda more-itertools\n",
    "import matplotlib.pyplot as plt\n",
    "import itertools\n",
    "def plot_confusion_matrix(cm, classes,\n",
    "                          normalize=False,\n",
    "                          title='Confusion matrix',\n",
    "                          cmap=plt.cm.Blues):\n",
    "    if normalize:\n",
    "        cm = cm.astype('float') / cm.sum(axis=1)[:, np.newaxis]\n",
    "    plt.imshow(cm, interpolation='nearest', cmap=cmap)\n",
    "    plt.title(title)\n",
    "    plt.colorbar()\n",
    "    tick_marks = np.arange(len(classes))\n",
    "    plt.xticks(tick_marks, classes, rotation=45)\n",
    "    plt.yticks(tick_marks, classes)\n",
    "    fmt = '.2f' if normalize else 'd'\n",
    "    thresh = cm.max() / 2.\n",
    "    for i, j in itertools.product(range(cm.shape[0]), range(cm.shape[1])):\n",
    "        plt.text(j, i, format(cm[i, j], fmt),\n",
    "                 horizontalalignment=\"center\",\n",
    "                 color=\"white\" if cm[i, j] > thresh else \"black\")\n",
    "    plt.tight_layout()\n",
    "    plt.ylabel('Etiqueta correcta')\n",
    "    plt.xlabel('Etiqueta predicha')"
   ]
  },
  {
   "cell_type": "code",
   "execution_count": 65,
   "metadata": {},
   "outputs": [
    {
     "data": {
      "image/png": "[encoded data removed]",
      "text/plain": [
       "<Figure size 432x288 with 2 Axes>"
      ]
     },
     "metadata": {
      "needs_background": "light"
     },
     "output_type": "display_data"
    }
   ],
   "source": [
    "plot_confusion_matrix(confusion_matrix(y_true, y_pred),\n",
    "                          classes=['0','1','2','3','4'], title=\"Matriz de confusión \")"
   ]
  }
 ],
 "metadata": {
  "kernelspec": {
   "display_name": "Python 3",
   "language": "python",
   "name": "python3"
  },
  "language_info": {
   "codemirror_mode": {
    "name": "ipython",
    "version": 3
   },
   "file_extension": ".py",
   "mimetype": "text/x-python",
   "name": "python",
   "nbconvert_exporter": "python",
   "pygments_lexer": "ipython3",
   "version": "3.7.3"
  }
 },
 "nbformat": 4,
 "nbformat_minor": 2
}
