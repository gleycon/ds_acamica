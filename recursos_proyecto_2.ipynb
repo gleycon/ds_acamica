{
 "cells": [
  {
   "cell_type": "markdown",
   "metadata": {},
   "source": [
    "# Proyecto: Engrasandonos las manos con datos"
   ]
  },
  {
   "cell_type": "markdown",
   "metadata": {},
   "source": [
    "¡Bienvenidos al segundo proyecto de la carrera de Data Science de Acamica! \n",
    "\n",
    "En este proyecto vamos a seguir trabajando con el dataset de propiedades en venta publicadas en el portal [Properati](www.properati.com.ar). El objetivo en este caso es continuar con la limpieza de datos y avanzar en remover valores faltantes y remover outliers. Por otro lado, vamos a agregar nuevos atributos basados en los datos."
   ]
  },
  {
   "cell_type": "markdown",
   "metadata": {},
   "source": [
    "## Dataset: Propiedades en venta en Ciudad de Buenos Aires."
   ]
  },
  {
   "cell_type": "markdown",
   "metadata": {},
   "source": [
    "En este proyecto, trabajaremos con una muestra del conjunto de datos de propiedades en venta mencionado. En este dataset, cada fila es una propiedad en venta. A continuación vamos a describir los atributos que consideramos en esta muestra:\n",
    "\n",
    "* id: id de la propiedad\n",
    "* created_on: fecha en la que la propiedad ingresó al sitio\n",
    "* operation: alquiler (rent) o venta (sell)\n",
    "* property_type: tipo de propiedad (casa, departamento, ph, etcétera)\n",
    "* place_with_parent_names: nombre del lugar donde se encuentra la propiedad según el publicador\n",
    "* lat-lon: coordenadas concatenadas\n",
    "* lat: latitud\n",
    "* lon: longitud\n",
    "* price: precio en la moneda especificada en currency\n",
    "* currency: divisa en la que está expresada la publicación\n",
    "* price_aprox_usd: precio aproximado en dólares estadounidenses\n",
    "* surface_total_in_m2: superficie total (en metros cuadrados)\n",
    "* surface_covered_in_m2: superficie cubierta (en metros cuadrados)\n",
    "* price_usd_per_m2: precio por metro cuadrado en dólares (precio dólares / superficie)\n",
    "* floor: número de piso (si corresponde)\n",
    "* rooms: cantidad de ambientes\n",
    "* expenses: expensas (si corresponde)\n",
    "* barrio: barrio según cartografía oficial\n",
    "* properati_url: url de la publicación en Properati\n",
    "\n",
    "A continuación vamos a levantar el dataset para comenzar el procesamiento. Cabe destacar que en este caso ya fueron hechas las correcciones de coordenadas y superficies incorrectas que vimos en el proyecto anterior"
   ]
  },
  {
   "cell_type": "code",
   "execution_count": 63,
   "metadata": {},
   "outputs": [],
   "source": [
    "import matplotlib.pyplot as plt\n",
    "%matplotlib inline\n",
    "import seaborn as sns\n",
    "import pandas as pd\n",
    "import numpy as np\n",
    "\n",
    "MAX_ROWS = 10\n",
    "pd.set_option('display.max_rows', MAX_ROWS)\n",
    "pd.set_option('display.max_columns', 200)\n",
    " \n",
    "sns.set_style(\"whitegrid\")\n",
    "sns.set_context(\"paper\")\n",
    "\n",
    "plt.rcParams['figure.figsize'] = (12,5)"
   ]
  },
  {
   "cell_type": "code",
   "execution_count": 64,
   "metadata": {},
   "outputs": [],
   "source": [
    "path_dataset = 'dataset/datos_properati_limpios.csv'\n",
    "df = pd.read_csv(path_dataset, parse_dates=['created_on'])"
   ]
  },
  {
   "cell_type": "code",
   "execution_count": 65,
   "metadata": {},
   "outputs": [
    {
     "data": {
      "text/plain": [
       "Index(['created_on', 'property_type', 'place_name', 'place_with_parent_names',\n",
       "       'lat', 'lon', 'price_aprox_usd', 'surface_total_in_m2',\n",
       "       'surface_covered_in_m2', 'price_usd_per_m2', 'floor', 'rooms',\n",
       "       'expenses', 'properati_url', 'barrio'],\n",
       "      dtype='object')"
      ]
     },
     "execution_count": 65,
     "metadata": {},
     "output_type": "execute_result"
    }
   ],
   "source": [
    "df.columns"
   ]
  },
  {
   "cell_type": "code",
   "execution_count": 66,
   "metadata": {},
   "outputs": [
    {
     "name": "stdout",
     "output_type": "stream",
     "text": [
      "El dataset que vamos a trabajar aquí tiene 13756 observaciones\n"
     ]
    }
   ],
   "source": [
    "print(\"El dataset que vamos a trabajar aquí tiene {} observaciones\".format(df.shape[0]))"
   ]
  },
  {
   "cell_type": "markdown",
   "metadata": {},
   "source": [
    "Dado que ya lo trabajamos en el proyecto anterior, en este caso ya hemos filtrado observaciones para trabajar solo con casas (house), departamentos (apartment) y PH (PH)."
   ]
  },
  {
   "cell_type": "markdown",
   "metadata": {},
   "source": [
    "### Outliers"
   ]
  },
  {
   "cell_type": "markdown",
   "metadata": {},
   "source": [
    "Analicemos en primer lugar los valores extremos que puede haber en los precios y en las superficies. Esto nos va a ser útil para luego imputar usando medidas de tendencia central, como el promedio. \n",
    "Recordemos que las medidas de tendencia central pueden ser sensibles a outliers, por lo que la imputación de valores faltantes puede verse afectada\n",
    "\n",
    "Una posible pregunta que surge es si conviene primero imputar faltantes y luego remover outliers, o lo contrario.  Cuando se imputa se modifica la distribución de los datos. Por eso, las cotas que utilicemos para definir los outliers se verán afectadas por este cambio y modificarán los resultados finales. Entonces comenzaremos quitando outliers.\n",
    "\n",
    "Vamos a trabajar con `price_usd_per_m2`. Precios altos pueden corresponderse con grandes superficies, por lo que conviene analizar juntos ambos atributos. Veamos la distribución de los valores y un boxplot para comenzar a identificar los outliers."
   ]
  },
  {
   "cell_type": "markdown",
   "metadata": {},
   "source": [
    "**1) Utilizá** seaborn para hacer un `distplot` del precio por metro cuadrado. \n",
    "\n",
    "Deberás hacer un `drop` de los valores `NaN` de esta columna antes de graficar."
   ]
  },
  {
   "cell_type": "code",
   "execution_count": 67,
   "metadata": {},
   "outputs": [
    {
     "name": "stdout",
     "output_type": "stream",
     "text": [
      "Now I have 12973 lines to work with\n"
     ]
    }
   ],
   "source": [
    "# Mostrá la figura en esta celda\n",
    "df = df.dropna(subset=['price_usd_per_m2']) # here I remove empty values from price_usd... and save into new var df2\n",
    "print (\"Now I have %s lines to work with\" %df.shape[0]) # Just show number of lines to check it has reduced from previous version"
   ]
  },
  {
   "cell_type": "code",
   "execution_count": 68,
   "metadata": {},
   "outputs": [
    {
     "data": {
      "text/plain": [
       "<matplotlib.axes._subplots.AxesSubplot at 0x7f528141f5f8>"
      ]
     },
     "execution_count": 68,
     "metadata": {},
     "output_type": "execute_result"
    },
    {
     "data": {
      "image/png": "[encoded data removed]",
      "text/plain": [
       "<Figure size 864x360 with 1 Axes>"
      ]
     },
     "metadata": {},
     "output_type": "display_data"
    }
   ],
   "source": [
    "sns.distplot(df['price_usd_per_m2'])"
   ]
  },
  {
   "cell_type": "markdown",
   "metadata": {},
   "source": [
    "**2) Hacé** un `boxplot` de la columna `price_usd_per_m2`"
   ]
  },
  {
   "cell_type": "code",
   "execution_count": 69,
   "metadata": {},
   "outputs": [
    {
     "data": {
      "text/plain": [
       "<matplotlib.axes._subplots.AxesSubplot at 0x7f528122e5c0>"
      ]
     },
     "execution_count": 69,
     "metadata": {},
     "output_type": "execute_result"
    },
    {
     "data": {
      "image/png": "[encoded data removed]",
      "text/plain": [
       "<Figure size 864x360 with 1 Axes>"
      ]
     },
     "metadata": {},
     "output_type": "display_data"
    }
   ],
   "source": [
    "# El boxplot debe estar en esta celda\n",
    "sns.boxplot(df['price_usd_per_m2'])"
   ]
  },
  {
   "cell_type": "markdown",
   "metadata": {},
   "source": [
    "¿A qué conclusión podemos llegar observando estas figuras?\n",
    "**Responder: Claramente hay valores muy extremos (cerca de los u$14.000 que van prejudicar el análisis de mis datos**"
   ]
  },
  {
   "cell_type": "markdown",
   "metadata": {},
   "source": [
    "Para confirmar la presencia de outliers vamos a utilizar los percentiles.\n",
    "\n",
    "**3) Describir** la columna mostrando sus estadísticos"
   ]
  },
  {
   "cell_type": "code",
   "execution_count": 70,
   "metadata": {},
   "outputs": [
    {
     "data": {
      "text/plain": [
       "count     12973.000000\n",
       "mean       2695.065767\n",
       "std        1773.086831\n",
       "min           0.958333\n",
       "25%        1959.183673\n",
       "50%        2510.204082\n",
       "75%        3125.000000\n",
       "max      142450.141026\n",
       "Name: price_usd_per_m2, dtype: float64"
      ]
     },
     "execution_count": 70,
     "metadata": {},
     "output_type": "execute_result"
    }
   ],
   "source": [
    "# Describir la columna en esta celda\n",
    "df.price_usd_per_m2.describe() # bring some descriptive infomation about selected value "
   ]
  },
  {
   "cell_type": "markdown",
   "metadata": {},
   "source": [
    "Estamos ante la presencia de valores extremos en ambas puntas de la distribución. Vamos a aplicar la técnica del rango intercuartílico para limpiarlos.\n",
    "\n",
    "Para obtener el rango tenemos que calcular la diferencia entre el tercer y el primer percentil. Luego en base a esto calcularemos los valores mínimos y máximos para definir qué observaciones serán descartadas.\n",
    "\n",
    "**4) Aplicar la técnica del rango intercuartílico** para limpiar el precio por metro cuadrado. El resultado deberá ser un `dataframe` llamado `df_filtered` sin los outliers."
   ]
  },
  {
   "cell_type": "code",
   "execution_count": 71,
   "metadata": {},
   "outputs": [],
   "source": [
    "# Realizar el filtrado intercuartílico en esta celda\n",
    "p25 = np.percentile(df.price_usd_per_m2, 25)\n",
    "p75 = np.percentile(df.price_usd_per_m2, 75)\n",
    "df_filtered = df[(df.price_usd_per_m2 >= p25) & (df.price_usd_per_m2 <= p75)]"
   ]
  },
  {
   "cell_type": "markdown",
   "metadata": {},
   "source": [
    "**5)** Volver a **plotear** con `distplot` y `boxplot` los precios sin los outliers y observá las diferencias con los anteriores ploteo."
   ]
  },
  {
   "cell_type": "code",
   "execution_count": 62,
   "metadata": {},
   "outputs": [
    {
     "data": {
      "text/plain": [
       "<matplotlib.axes._subplots.AxesSubplot at 0x7f52814a13c8>"
      ]
     },
     "execution_count": 62,
     "metadata": {},
     "output_type": "execute_result"
    },
    {
     "data": {
      "image/png": "[encoded data removed]",
      "text/plain": [
       "<Figure size 864x360 with 1 Axes>"
      ]
     },
     "metadata": {},
     "output_type": "display_data"
    }
   ],
   "source": [
    "# Hacé el distplot \n",
    "sns.distplot(df_filtered['price_usd_per_m2'])"
   ]
  },
  {
   "cell_type": "code",
   "execution_count": 20,
   "metadata": {},
   "outputs": [
    {
     "data": {
      "text/plain": [
       "<matplotlib.axes._subplots.AxesSubplot at 0x7f52815af9e8>"
      ]
     },
     "execution_count": 20,
     "metadata": {},
     "output_type": "execute_result"
    },
    {
     "data": {
      "image/png": "[encoded data removed]",
      "text/plain": [
       "<Figure size 864x360 with 1 Axes>"
      ]
     },
     "metadata": {},
     "output_type": "display_data"
    }
   ],
   "source": [
    "# Hacé el boxplot en esta celda\n",
    "sns.boxplot(df_filtered['price_usd_per_m2'])"
   ]
  },
  {
   "cell_type": "markdown",
   "metadata": {},
   "source": [
    "**6) Describir** nuevamente la columna mostrando sus estadísticos."
   ]
  },
  {
   "cell_type": "code",
   "execution_count": 21,
   "metadata": {},
   "outputs": [
    {
     "data": {
      "text/plain": [
       "count    6487.000000\n",
       "mean     2522.518383\n",
       "std       330.545994\n",
       "min      1959.183673\n",
       "25%      2239.509977\n",
       "50%      2510.204082\n",
       "75%      2800.000000\n",
       "max      3125.000000\n",
       "Name: price_usd_per_m2, dtype: float64"
      ]
     },
     "execution_count": 21,
     "metadata": {},
     "output_type": "execute_result"
    }
   ],
   "source": [
    "df_filtered['price_usd_per_m2'].describe()"
   ]
  },
  {
   "cell_type": "markdown",
   "metadata": {},
   "source": [
    "Vamos a seguir trabajando con el `dataframe` filtrado"
   ]
  },
  {
   "cell_type": "code",
   "execution_count": 72,
   "metadata": {},
   "outputs": [],
   "source": [
    "df = df_filtered"
   ]
  },
  {
   "cell_type": "markdown",
   "metadata": {},
   "source": [
    "### Valores Faltantes"
   ]
  },
  {
   "cell_type": "markdown",
   "metadata": {},
   "source": [
    "A diferencia del proyecto pasado, vamos a intentar imputar los valores faltantes para los atributos que consideramos importantes para el mercado inmobiliario. \n",
    "\n",
    "Estos atributos son los que informan **superficie (total o cubierta), cantidad de ambientes, precio y precio por metro cuadrado**. \n",
    "\n",
    "Veamos en primer lugar cuántos valores faltantes tiene cada atributo. Nos interesa verlo como un porcentaje en relación a la cantidad de observaciones. Si un atributo tiene un elevado porcentaje de faltantes, puede ser mejor no considerarlo en el análisis."
   ]
  },
  {
   "cell_type": "markdown",
   "metadata": {},
   "source": [
    "**7) Mostrar** cual es el porcentaje de valores faltantes para cada columna."
   ]
  },
  {
   "cell_type": "code",
   "execution_count": 73,
   "metadata": {},
   "outputs": [
    {
     "data": {
      "text/plain": [
       "Index(['created_on', 'property_type', 'place_name', 'place_with_parent_names',\n",
       "       'lat', 'lon', 'price_aprox_usd', 'surface_total_in_m2',\n",
       "       'surface_covered_in_m2', 'price_usd_per_m2', 'floor', 'rooms',\n",
       "       'expenses', 'properati_url', 'barrio'],\n",
       "      dtype='object')"
      ]
     },
     "execution_count": 73,
     "metadata": {},
     "output_type": "execute_result"
    }
   ],
   "source": [
    "df.columns # Just to check column name again"
   ]
  },
  {
   "cell_type": "code",
   "execution_count": 74,
   "metadata": {},
   "outputs": [
    {
     "data": {
      "text/plain": [
       "floor                    83.181748\n",
       "expenses                 71.789733\n",
       "rooms                    16.355789\n",
       "surface_covered_in_m2     3.576384\n",
       "barrio                    0.000000\n",
       "properati_url             0.000000\n",
       "price_usd_per_m2          0.000000\n",
       "surface_total_in_m2       0.000000\n",
       "dtype: float64"
      ]
     },
     "execution_count": 74,
     "metadata": {},
     "output_type": "execute_result"
    }
   ],
   "source": [
    "# Mostrá los valores faltantes en esta celda\n",
    "empty1=df.isnull().mean() # Mean value of empty cells\n",
    "empty1=empty1*100 # multiply by 100 to get percentage\n",
    "empty1.sort_values(ascending=False).head(8) # list sorted columns with highest percentage of empty cells "
   ]
  },
  {
   "cell_type": "markdown",
   "metadata": {},
   "source": [
    "Podemos ver en los resultados que los atributos `floor` y `expenses` tienen un elevado porcentaje de faltantes.  Una opción sería descartar estas columnas en el análisis. \n",
    "Si elimináramos las observaciones (filas) asociadas a estos, perderíamos el 84.79% de los datos, mermando demasiado el conjunto de datos.\n",
    "\n",
    "Otra opción sería por ejemplo considerar categorías como faltantes o no faltantes o en todo caso analizar si hay algún patrón para poder evitar quitarlos. \n",
    "\n",
    "Para avanzar con el proyecto, vamos a quitar esos atributos."
   ]
  },
  {
   "cell_type": "code",
   "execution_count": 75,
   "metadata": {},
   "outputs": [],
   "source": [
    "df = df.drop(['floor', 'expenses'], axis = 1)"
   ]
  },
  {
   "cell_type": "markdown",
   "metadata": {},
   "source": [
    "Analicemos estrategias para imputar los valores faltantes para los atributos `rooms`, `surface_total_in_m2` y `surface_covered_in_m2`.\n",
    "\n",
    "Como vimos en las actividades, entre las opciones que tenemos está la posibilidad de imputar por algún medida de tendencia central, como el caso de la media o la mediana. Vamos a avanzar en esa dirección."
   ]
  },
  {
   "cell_type": "markdown",
   "metadata": {},
   "source": [
    "**8) Imputar las observaciones faltantes** de la columna `surface_total_in_m2 ` y `surface_covered_in_m2` usando la **media**. \n",
    "\n",
    "`Scikit-learn` nos provee la clase `Imputer` que implementa las formas más comunes de imputación."
   ]
  },
  {
   "cell_type": "code",
   "execution_count": 79,
   "metadata": {},
   "outputs": [],
   "source": [
    "# Imputar los valores en esta celda\n",
    "from sklearn.impute import SimpleImputer # import library a bit different from class due to update on library\n",
    "imp = SimpleImputer(strategy='mean') # save a function on simple variable\n",
    "df_2 = imp.fit_transform(df[['surface_total_in_m2']]) # use fit_transform to add values // THIS FIELD WAS ALREADY EMPTY??\n",
    "df_3 = imp.fit_transform(df[['surface_covered_in_m2']]) # THIS CODE IS NOT WORKING, SEE BELOW"
   ]
  },
  {
   "cell_type": "code",
   "execution_count": 83,
   "metadata": {},
   "outputs": [
    {
     "data": {
      "text/plain": [
       "rooms                    1061\n",
       "surface_covered_in_m2     232\n",
       "barrio                      0\n",
       "properati_url               0\n",
       "price_usd_per_m2            0\n",
       "dtype: int64"
      ]
     },
     "execution_count": 83,
     "metadata": {},
     "output_type": "execute_result"
    }
   ],
   "source": [
    "# Just to check if worked....\n",
    "empty2=df.isnull().sum() # Mean value of empty cells\n",
    "empty2.sort_values(ascending=False).head() # list sorted columns with highest percentage of empty cells "
   ]
  },
  {
   "cell_type": "markdown",
   "metadata": {},
   "source": [
    "Una de las limitaciones que presenta este tipo de imputación es que provoca estimaciones sesgadas de la varianza. Esto impacta en los errores estandar y, por ende, en los tests estadístcos.\n",
    "\n",
    "Este tipo de técnicas es útil cuando los valores son completamente al azar."
   ]
  },
  {
   "cell_type": "markdown",
   "metadata": {},
   "source": [
    "**9) Imputar las observaciones faltantes** de la columna `rooms` usando la **mediana**."
   ]
  },
  {
   "cell_type": "code",
   "execution_count": 81,
   "metadata": {},
   "outputs": [],
   "source": [
    "# Imputar con la mediana en esta celda\n",
    "imp = SimpleImputer(strategy='median')\n",
    "df_3 = imp.fit_transform(df[['rooms']])"
   ]
  },
  {
   "cell_type": "code",
   "execution_count": 82,
   "metadata": {},
   "outputs": [
    {
     "data": {
      "text/plain": [
       "rooms                    16.355789\n",
       "surface_covered_in_m2     3.576384\n",
       "barrio                    0.000000\n",
       "properati_url             0.000000\n",
       "price_usd_per_m2          0.000000\n",
       "dtype: float64"
      ]
     },
     "execution_count": 82,
     "metadata": {},
     "output_type": "execute_result"
    }
   ],
   "source": [
    "# Just checking progress\n",
    "empty3=df.isnull().mean() # Mean value of empty cells\n",
    "empty3=empty3*100 # multiply by 100 to get percentage\n",
    "empty3.sort_values(ascending=False).head() # list sorted columns with highest percentage of empty cells "
   ]
  },
  {
   "cell_type": "markdown",
   "metadata": {},
   "source": [
    "### Variables binarias"
   ]
  },
  {
   "cell_type": "markdown",
   "metadata": {},
   "source": [
    "#### Generar variables binarias para el atributo `property_type`.\n",
    "\n",
    "Hay que tener en cuenta en este caso que el atributo es categórico.\n",
    "\n",
    "Para hacerlo usando scikit-learn, por como vienen dados los valores (en formato string), primero conviene convertirlos en numéricos. Para esto usamos `LabelEncoder`.\n",
    "\n",
    "**10) Convertí** las variables de `property_type` utilizando `LabelEncoder`"
   ]
  },
  {
   "cell_type": "code",
   "execution_count": null,
   "metadata": {},
   "outputs": [],
   "source": [
    "# Utilizá LabelEncoder en esta celda"
   ]
  },
  {
   "cell_type": "markdown",
   "metadata": {},
   "source": [
    "**11) Mostrar** las clases del `LabelEncoder`:"
   ]
  },
  {
   "cell_type": "code",
   "execution_count": null,
   "metadata": {},
   "outputs": [],
   "source": [
    "# Mostrar la propiedad classes_ del LabelEncoder que creaste"
   ]
  },
  {
   "cell_type": "markdown",
   "metadata": {},
   "source": [
    "Luego con `OneHotEncoder` obtenemos las categorías expresadas como **variables binarias**. \n",
    "\n",
    "**12) Aplicar** `OneHotEncoder` sobre las variables categóricas para crear un dataframe `categoricals_df`"
   ]
  },
  {
   "cell_type": "code",
   "execution_count": null,
   "metadata": {},
   "outputs": [],
   "source": [
    "# Utilizá OneHotEncoder en esta celda "
   ]
  },
  {
   "cell_type": "markdown",
   "metadata": {},
   "source": [
    "Unimos el nuevo dataframe `categorical_df` con el `dataframe` original `df`. Para esto, necesitamos que tengan el mismo índice."
   ]
  },
  {
   "cell_type": "code",
   "execution_count": null,
   "metadata": {},
   "outputs": [],
   "source": [
    "categoricals_df = categoricals_df.set_index(df.index)\n",
    "df = pd.concat([df, categoricals_df], axis=1)\n",
    "df.head()"
   ]
  },
  {
   "cell_type": "markdown",
   "metadata": {},
   "source": [
    "### Variables calculadas"
   ]
  },
  {
   "cell_type": "markdown",
   "metadata": {},
   "source": [
    "__Calcular el precio por metro cuadrado (precio/superficie total). Llamar a este atributo `price_m2`.__\n",
    "\n",
    "Hay que tener cuidado en esta parte respecto de dividir por cero. Para ello, armemos una función de división que contemple eso.\n",
    "\n",
    "El hecho de crear una columna nueva y no imputar los faltantes es simplemente una decisión. Cuando veamos modelos predictivos, vamos a poder cuantificar el costo de las decisiones que tomemos en términos de performance del modelo."
   ]
  },
  {
   "cell_type": "code",
   "execution_count": null,
   "metadata": {},
   "outputs": [],
   "source": [
    "def custom_division(x, y):\n",
    "    if y > 0:\n",
    "        res = x / y\n",
    "    else:\n",
    "        res = 0\n",
    "    return res\n",
    "\n",
    "df['price_m2'] = df.apply(lambda x: custom_division(x['price_aprox_usd'], x['surface_total_in_m2']), axis = 1)\n",
    "df.drop(['price_usd_per_m2'], axis=1, inplace=True)"
   ]
  },
  {
   "cell_type": "markdown",
   "metadata": {},
   "source": [
    "__Verificar que ya no quedan atributos con valores faltantes__"
   ]
  },
  {
   "cell_type": "code",
   "execution_count": null,
   "metadata": {},
   "outputs": [],
   "source": [
    "# Creamos un dataset con los porcentajes de nulos\n",
    "df_faltantes = pd.DataFrame(df.isnull().sum() / df.shape[0], columns=['Porcentaje nulos'])\n",
    "# Solo mostramos los que tengan valores nulos. Si el porcentaje es 0 no se muestra\n",
    "df_faltantes.loc[~(df_faltantes==0).all(axis=1)]"
   ]
  },
  {
   "cell_type": "code",
   "execution_count": null,
   "metadata": {},
   "outputs": [],
   "source": [
    "print(\"El dataset final luego del procesamiento tiene {} observaciones\".format(df.shape[0]))"
   ]
  },
  {
   "cell_type": "markdown",
   "metadata": {},
   "source": [
    "De este modo, hemos limpiado valores extremos e imputado valores nulos. El costo de esto fue la pérdida de 685 observaciones, 5% de la cantidad original de filas."
   ]
  }
 ],
 "metadata": {
  "kernelspec": {
   "display_name": "Python 3",
   "language": "python",
   "name": "python3"
  },
  "language_info": {
   "codemirror_mode": {
    "name": "ipython",
    "version": 3
   },
   "file_extension": ".py",
   "mimetype": "text/x-python",
   "name": "python",
   "nbconvert_exporter": "python",
   "pygments_lexer": "ipython3",
   "version": "3.7.3"
  }
 },
 "nbformat": 4,
 "nbformat_minor": 2
}
